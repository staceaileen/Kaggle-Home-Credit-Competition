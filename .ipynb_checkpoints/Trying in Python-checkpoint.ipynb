{
 "cells": [
  {
   "cell_type": "markdown",
   "metadata": {},
   "source": [
    "# importing packages"
   ]
  },
  {
   "cell_type": "code",
   "execution_count": 1,
   "metadata": {},
   "outputs": [],
   "source": [
    "import pandas as pd\n",
    "import numpy as np\n",
    "from sklearn.model_selection import train_test_split\n",
    "from sklearn.feature_selection import SelectKBest, SelectPercentile, SelectFromModel, VarianceThreshold, RFE, f_classif\n",
    "from sklearn.tree import DecisionTreeClassifier\n",
    "from sklearn.svm import SVC\n",
    "from sklearn.ensemble import RandomForestClassifier"
   ]
  },
  {
   "cell_type": "markdown",
   "metadata": {},
   "source": [
    "# reading the data"
   ]
  },
  {
   "cell_type": "code",
   "execution_count": 2,
   "metadata": {},
   "outputs": [],
   "source": [
    "train = pd.read_csv(\"application_train.csv\")\n",
    "test = pd.read_csv(\"application_test.csv\")"
   ]
  },
  {
   "cell_type": "markdown",
   "metadata": {},
   "source": [
    "# cleaning the data"
   ]
  },
  {
   "cell_type": "code",
   "execution_count": 3,
   "metadata": {},
   "outputs": [
    {
     "data": {
      "text/plain": [
       "(307511, 122)"
      ]
     },
     "execution_count": 3,
     "metadata": {},
     "output_type": "execute_result"
    }
   ],
   "source": [
    "train.shape"
   ]
  },
  {
   "cell_type": "code",
   "execution_count": null,
   "metadata": {},
   "outputs": [
    {
     "data": {
      "text/plain": [
       "SK_ID_CURR                         0\n",
       "TARGET                             0\n",
       "NAME_CONTRACT_TYPE                 0\n",
       "CODE_GENDER                        0\n",
       "FLAG_OWN_CAR                       0\n",
       "FLAG_OWN_REALTY                    0\n",
       "CNT_CHILDREN                       0\n",
       "AMT_INCOME_TOTAL                   0\n",
       "AMT_CREDIT                         0\n",
       "AMT_ANNUITY                       12\n",
       "AMT_GOODS_PRICE                  278\n",
       "NAME_TYPE_SUITE                 1292\n",
       "NAME_INCOME_TYPE                   0\n",
       "NAME_EDUCATION_TYPE                0\n",
       "NAME_FAMILY_STATUS                 0\n",
       "NAME_HOUSING_TYPE                  0\n",
       "REGION_POPULATION_RELATIVE         0\n",
       "DAYS_BIRTH                         0\n",
       "DAYS_EMPLOYED                      0\n",
       "DAYS_REGISTRATION                  0\n",
       "DAYS_ID_PUBLISH                    0\n",
       "OWN_CAR_AGE                   202929\n",
       "FLAG_MOBIL                         0\n",
       "FLAG_EMP_PHONE                     0\n",
       "FLAG_WORK_PHONE                    0\n",
       "FLAG_CONT_MOBILE                   0\n",
       "FLAG_PHONE                         0\n",
       "FLAG_EMAIL                         0\n",
       "OCCUPATION_TYPE                96391\n",
       "CNT_FAM_MEMBERS                    2\n",
       "                               ...  \n",
       "DEF_30_CNT_SOCIAL_CIRCLE        1021\n",
       "OBS_60_CNT_SOCIAL_CIRCLE        1021\n",
       "DEF_60_CNT_SOCIAL_CIRCLE        1021\n",
       "DAYS_LAST_PHONE_CHANGE             1\n",
       "FLAG_DOCUMENT_2                    0\n",
       "FLAG_DOCUMENT_3                    0\n",
       "FLAG_DOCUMENT_4                    0\n",
       "FLAG_DOCUMENT_5                    0\n",
       "FLAG_DOCUMENT_6                    0\n",
       "FLAG_DOCUMENT_7                    0\n",
       "FLAG_DOCUMENT_8                    0\n",
       "FLAG_DOCUMENT_9                    0\n",
       "FLAG_DOCUMENT_10                   0\n",
       "FLAG_DOCUMENT_11                   0\n",
       "FLAG_DOCUMENT_12                   0\n",
       "FLAG_DOCUMENT_13                   0\n",
       "FLAG_DOCUMENT_14                   0\n",
       "FLAG_DOCUMENT_15                   0\n",
       "FLAG_DOCUMENT_16                   0\n",
       "FLAG_DOCUMENT_17                   0\n",
       "FLAG_DOCUMENT_18                   0\n",
       "FLAG_DOCUMENT_19                   0\n",
       "FLAG_DOCUMENT_20                   0\n",
       "FLAG_DOCUMENT_21                   0\n",
       "AMT_REQ_CREDIT_BUREAU_HOUR     41519\n",
       "AMT_REQ_CREDIT_BUREAU_DAY      41519\n",
       "AMT_REQ_CREDIT_BUREAU_WEEK     41519\n",
       "AMT_REQ_CREDIT_BUREAU_MON      41519\n",
       "AMT_REQ_CREDIT_BUREAU_QRT      41519\n",
       "AMT_REQ_CREDIT_BUREAU_YEAR     41519\n",
       "Length: 122, dtype: int64"
      ]
     },
     "execution_count": 4,
     "metadata": {},
     "output_type": "execute_result"
    }
   ],
   "source": [
    "train.isna().sum()"
   ]
  },
  {
   "cell_type": "code",
   "execution_count": null,
   "metadata": {},
   "outputs": [],
   "source": [
    "train = train.fillna(train.mean())"
   ]
  },
  {
   "cell_type": "code",
   "execution_count": null,
   "metadata": {},
   "outputs": [],
   "source": [
    "train.isna().sum()"
   ]
  },
  {
   "cell_type": "markdown",
   "metadata": {},
   "source": [
    "# splitting the data"
   ]
  },
  {
   "cell_type": "code",
   "execution_count": null,
   "metadata": {},
   "outputs": [],
   "source": [
    "msk = np.random.rand(len(train)) < 0.8\n",
    "train2 = train[msk]\n",
    "test2 = train[~msk]"
   ]
  },
  {
   "cell_type": "code",
   "execution_count": null,
   "metadata": {},
   "outputs": [],
   "source": [
    "X_train = train2.drop['TARGET']\n",
    "y_train = train2['TARGET']\n",
    "X_test = test2.drop['TARGET']\n",
    "y_train = test2['TARGET']"
   ]
  },
  {
   "cell_type": "markdown",
   "metadata": {},
   "source": [
    "# PCA stuff"
   ]
  },
  {
   "cell_type": "code",
   "execution_count": null,
   "metadata": {},
   "outputs": [],
   "source": [
    "pipe = Pipeline(steps=[\n",
    "    ('scaler', StandardScaler()),\n",
    "    ('pca', PCA()),\n",
    "    ('logistic', LogisticRegression())\n",
    "])\n",
    "pipe.fit(X_train, y_train)\n",
    "pipe.score(X_test, y_test)"
   ]
  },
  {
   "cell_type": "code",
   "execution_count": null,
   "metadata": {},
   "outputs": [],
   "source": [
    "pipe = Pipeline(steps=[\n",
    "    ('scaler', StandardScaler()),\n",
    "    ('union', FeatureUnion([\n",
    "        ('pca', PCA()),\n",
    "        ('kernelpca', KernelPCA())\n",
    "    ])),\n",
    "    ('dt', DecisionTreeClassifier())\n",
    "])\n",
    "pipe.fit(X_train, y_train)\n",
    "pipe.score(X_test, y_test)"
   ]
  },
  {
   "cell_type": "markdown",
   "metadata": {},
   "source": [
    "# trying out some models"
   ]
  },
  {
   "cell_type": "code",
   "execution_count": null,
   "metadata": {},
   "outputs": [],
   "source": [
    "svc = SVC()\n",
    "\n",
    "svc.fit(X_train, y_train)\n",
    "svc.score(X_test, y_test)"
   ]
  },
  {
   "cell_type": "code",
   "execution_count": null,
   "metadata": {},
   "outputs": [],
   "source": [
    "tree = DecisionTreeClassifier()\n",
    "\n",
    "tree.fit(X_train, y_train)\n",
    "tree.score(X_test, y_test)"
   ]
  },
  {
   "cell_type": "markdown",
   "metadata": {},
   "source": [
    "# selecting features"
   ]
  },
  {
   "cell_type": "code",
   "execution_count": null,
   "metadata": {},
   "outputs": [],
   "source": [
    "selector = SelectPercentile(percentile=35)\n",
    "selector.fit(X_train, y_train)\n",
    "pipe = make_pipeline(SelectPercentile(percentile=35), SVC())\n",
    "pipe.fit(X_train, y_train)\n",
    "pipe.score(X_test, y_test)"
   ]
  },
  {
   "cell_type": "code",
   "execution_count": null,
   "metadata": {},
   "outputs": [],
   "source": [
    "pipe = make_pipeline(SelectPercentile(percentile=35), DecisionTreeClassifier())\n",
    "pipe.fit(X_train, y_train)\n",
    "pipe.score(X_test, y_test)"
   ]
  }
 ],
 "metadata": {
  "kernelspec": {
   "display_name": "Python [conda env:anaconda3]",
   "language": "python",
   "name": "conda-env-anaconda3-py"
  },
  "language_info": {
   "codemirror_mode": {
    "name": "ipython",
    "version": 3
   },
   "file_extension": ".py",
   "mimetype": "text/x-python",
   "name": "python",
   "nbconvert_exporter": "python",
   "pygments_lexer": "ipython3",
   "version": "3.6.3"
  }
 },
 "nbformat": 4,
 "nbformat_minor": 2
}
